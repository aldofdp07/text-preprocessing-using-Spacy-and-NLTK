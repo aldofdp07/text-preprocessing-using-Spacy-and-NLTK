{
  "cells": [
    {
      "cell_type": "markdown",
      "metadata": {
        "id": "KBL7VTBBJCMq"
      },
      "source": [
        "#Tugas Percobaan Pertemuan 1 (Kelas B) - Preproses dokumen menggunakan spaCy\n",
        "###Aldo Frsika Darma Putra (195150207111037)\n",
        "\n",
        "###Tahap preproses dalam Text Mining merupakan tahapan krusial/penting, salah satu library yang bisa digunakan adalah spaCy. Pada Tugas ini, Anda diminta untuk melakukan pemrosesan terhadap dokumen teks berbahasa indonesia dengan beberapa langkah sebagai berikut:\n",
        "\n",
        "1.  Pilih sebuah artikel pada jurnal (https://j-ptiik.ub.ac.id/index.php/j-ptiik) ;\n",
        "2.  Ambil bagian abstrak berbahasa Indonesia\n",
        "3.  Lakukan praproses menggunakan library spaCy https://spacy.io/\n",
        "4.  Upload kode program Python yang berisi langkah-langkah tersebut pada halaman Eling\n",
        "\n",
        "link dokumen: https://j-ptiik.ub.ac.id/index.php/j-ptiik/article/view/11477"
      ]
    },
    {
      "cell_type": "markdown",
      "metadata": {
        "id": "JfL5e04WJ8Nw"
      },
      "source": [
        "##Tahapan Text Preprocessing\n",
        "1. Case Folding\n",
        "2. Tokenization\n",
        "3. Stopword Removal (filtering)\n",
        "4. Lemmatization\n",
        "5. Stemming"
      ]
    },
    {
      "cell_type": "markdown",
      "metadata": {
        "id": "53XM34Zi9IDv"
      },
      "source": [
        "##==============================="
      ]
    },
    {
      "cell_type": "code",
      "execution_count": null,
      "metadata": {
        "colab": {
          "base_uri": "https://localhost:8080/"
        },
        "id": "DACyfnlrH1Kt",
        "outputId": "41321b13-b07f-4343-d03f-20eae734c3b0"
      },
      "outputs": [
        {
          "output_type": "stream",
          "name": "stdout",
          "text": [
            "Looking in indexes: https://pypi.org/simple, https://us-python.pkg.dev/colab-wheels/public/simple/\n",
            "Requirement already satisfied: sastrawi in /usr/local/lib/python3.7/dist-packages (1.0.1)\n"
          ]
        }
      ],
      "source": [
        "pip install sastrawi"
      ]
    },
    {
      "cell_type": "code",
      "execution_count": null,
      "metadata": {
        "colab": {
          "base_uri": "https://localhost:8080/"
        },
        "id": "ql_EmMAf9PIt",
        "outputId": "9bc1ec9b-667c-4b61-d183-9c4ab2cce4f7"
      },
      "outputs": [
        {
          "output_type": "execute_result",
          "data": {
            "text/plain": [
              "{'spacy_version': '3.4.1',\n",
              " 'location': '/usr/local/lib/python3.7/dist-packages/spacy',\n",
              " 'platform': 'Linux-5.4.188+-x86_64-with-Ubuntu-18.04-bionic',\n",
              " 'python_version': '3.7.13',\n",
              " 'pipelines': {'en_core_web_sm': '3.4.0'}}"
            ]
          },
          "metadata": {},
          "execution_count": 171
        }
      ],
      "source": [
        "# pip install -U spacy\n",
        "# python -m spacy download en_core_web_sm\n",
        "import spacy\n",
        "import re\n",
        "import Sastrawi\n",
        "\n",
        "spacy.info()"
      ]
    },
    {
      "cell_type": "code",
      "execution_count": null,
      "metadata": {
        "id": "BWg_z8sLIXpA"
      },
      "outputs": [],
      "source": [
        "# Load English tokenizer, tagger, parser and NER\n",
        "nlp = spacy.load(\"en_core_web_sm\")\n",
        "nlpId = spacy.blank(\"id\")"
      ]
    },
    {
      "cell_type": "code",
      "execution_count": null,
      "metadata": {
        "id": "U43sY0c_9QEF"
      },
      "outputs": [],
      "source": [
        "# Process whole documents\n",
        "text = (\"\"\"Review pada Google Play Store merupakan salah satu fitur yang digunakan untuk memberikan suatu penilaian terhadap suatu aplikasi. \n",
        "TIX ID merupakan salah satu perusahaan layanan atau aplikasi pemesanan tiket film bioskop secara online yang dibuat oleh PT Nusantara Elang Sejahtera. \n",
        "Aplikasi ini memberikan layanan seperti memesan tiket film dari bioskop favorit, memilih film online untuk dibeli atau disewa, dan membeli voucher untuk menonton film streaming online. \n",
        "Namun rating yang disertai dengan berbagai ulasan bukan berarti bahwa keinginan atau masalah pengguna terpenuhi dan berhenti untuk melakukan evaluasi dalam peningkatan pelayanan kepada \n",
        "pengguna. Untuk itu diperlukan analisis sentimen yang dapat mengklasifikasikan review sebagai sentimen pengguna. Dalam penelitian ini dilakukan tahap scraping untuk pengumpulan \n",
        "data ulasan pengguna aplikasi, dilanjutkan tahap text preprocessing untuk mengolah data dengan menyeleksi data dan mengubahnya menjadi data yang lebih terstruktur. \n",
        "Data hasil text preprocessing dilakukan pembobotan kata dengan menggunakan metode Term Frequency – Inverse Document Frequency (TF-IDF). Kemudian dilakukan klasifikasi sentimen \n",
        "menggunakan algoritma Support Vector Machine (SVM). Hasil terbaik yang didapatkan dengan algoritma SVM untuk pengujian sentimen 2 kelas dengan data tidakseimbang dengan \n",
        "data positif 274 dan data negatif 100 menggunakan nilai data latih dan data uji 90%:10%, total data dengan 374 data, mengunakan parameter nilai C = 10, percobaan cross \n",
        "validation K=10 dan penggunaan kernel linear. Hasil yang didapatkan untuk nilai rata - rata accuracy 91%, presicion 94%, recall 83% dan f-measure 86%. Hasil terbaik yang didapatkan \n",
        "dengan algoritma SVM untuk pengujian sentimen 2 kelas dengan data seimbang dengan data positif 150 dan data negatif 150 menggunakan nilai data latih dan data uji 90%:10%, \n",
        "total data dengan 300 data, mengunakan parameter nilai C = 0.5, percobaan cross validation K=10 dan penggunaan kernel linear. Hasil pengujian pada data seimbang mendapatkan \n",
        "hasil akurasi tertinggi yakni 94%, precision 94%, recall 94% dan f-measure 94% pada metode Support Vector Machine klasifikasi 2 sentimen.\"\"\")"
      ]
    },
    {
      "cell_type": "markdown",
      "metadata": {
        "id": "yC4KioR_JCdf"
      },
      "source": [
        "##Casefolding"
      ]
    },
    {
      "cell_type": "code",
      "execution_count": null,
      "metadata": {
        "colab": {
          "base_uri": "https://localhost:8080/"
        },
        "id": "LNWdASgGI8bh",
        "outputId": "d2584b73-e4b3-421d-e21b-1bca98e1fb12"
      },
      "outputs": [
        {
          "output_type": "stream",
          "name": "stdout",
          "text": [
            "review pada google play store merupakan salah satu fitur yang digunakan untuk memberikan suatu penilaian terhadap suatu aplikasi. \n",
            "tix id merupakan salah satu perusahaan layanan atau aplikasi pemesanan tiket film bioskop secara online yang dibuat oleh pt nusantara elang sejahtera. \n",
            "aplikasi ini memberikan layanan seperti memesan tiket film dari bioskop favorit, memilih film online untuk dibeli atau disewa, dan membeli voucher untuk menonton film streaming online. \n",
            "namun rating yang disertai dengan berbagai ulasan bukan berarti bahwa keinginan atau masalah pengguna terpenuhi dan berhenti untuk melakukan evaluasi dalam peningkatan pelayanan kepada \n",
            "pengguna. untuk itu diperlukan analisis sentimen yang dapat mengklasifikasikan review sebagai sentimen pengguna. dalam penelitian ini dilakukan tahap scraping untuk pengumpulan \n",
            "data ulasan pengguna aplikasi, dilanjutkan tahap text preprocessing untuk mengolah data dengan menyeleksi data dan mengubahnya menjadi data yang lebih terstruktur. \n",
            "data hasil text preprocessing dilakukan pembobotan kata dengan menggunakan metode term frequency – inverse document frequency (tf-idf). kemudian dilakukan klasifikasi sentimen \n",
            "menggunakan algoritma support vector machine (svm). hasil terbaik yang didapatkan dengan algoritma svm untuk pengujian sentimen 2 kelas dengan data tidakseimbang dengan \n",
            "data positif 274 dan data negatif 100 menggunakan nilai data latih dan data uji 90%:10%, total data dengan 374 data, mengunakan parameter nilai c = 10, percobaan cross \n",
            "validation k=10 dan penggunaan kernel linear. hasil yang didapatkan untuk nilai rata - rata accuracy 91%, presicion 94%, recall 83% dan f-measure 86%. hasil terbaik yang didapatkan \n",
            "dengan algoritma svm untuk pengujian sentimen 2 kelas dengan data seimbang dengan data positif 150 dan data negatif 150 menggunakan nilai data latih dan data uji 90%:10%, \n",
            "total data dengan 300 data, mengunakan parameter nilai c = 0.5, percobaan cross validation k=10 dan penggunaan kernel linear. hasil pengujian pada data seimbang mendapatkan \n",
            "hasil akurasi tertinggi yakni 94%, precision 94%, recall 94% dan f-measure 94% pada metode support vector machine klasifikasi 2 sentimen.\n"
          ]
        }
      ],
      "source": [
        "text = text.casefold()\n",
        "print(text)"
      ]
    },
    {
      "cell_type": "code",
      "execution_count": null,
      "metadata": {
        "id": "6mbNiST4JLHM"
      },
      "outputs": [],
      "source": [
        "doc = nlpId(text)"
      ]
    },
    {
      "cell_type": "markdown",
      "metadata": {
        "id": "mZMBO_5ZJZb4"
      },
      "source": [
        "##Tokenization"
      ]
    },
    {
      "cell_type": "code",
      "execution_count": null,
      "metadata": {
        "colab": {
          "base_uri": "https://localhost:8080/"
        },
        "id": "8PEvUvL1JYjQ",
        "outputId": "534e079c-3787-4e7a-c547-d5055f962915"
      },
      "outputs": [
        {
          "output_type": "stream",
          "name": "stdout",
          "text": [
            "[review, pada, google, play, store, merupakan, salah, satu, fitur, yang, digunakan, untuk, memberikan, suatu, penilaian, terhadap, suatu, aplikasi, tix, id, merupakan, salah, satu, perusahaan, layanan, atau, aplikasi, pemesanan, tiket, film, bioskop, secara, online, yang, dibuat, oleh, pt, nusantara, elang, sejahtera, aplikasi, ini, memberikan, layanan, seperti, memesan, tiket, film, dari, bioskop, favorit, memilih, film, online, untuk, dibeli, atau, disewa, dan, membeli, voucher, untuk, menonton, film, streaming, online, namun, rating, yang, disertai, dengan, berbagai, ulasan, bukan, berarti, bahwa, keinginan, atau, masalah, pengguna, terpenuhi, dan, berhenti, untuk, melakukan, evaluasi, dalam, peningkatan, pelayanan, kepada, pengguna, untuk, itu, diperlukan, analisis, sentimen, yang, dapat, mengklasifikasikan, review, sebagai, sentimen, pengguna, dalam, penelitian, ini, dilakukan, tahap, scraping, untuk, pengumpulan, data, ulasan, pengguna, aplikasi, dilanjutkan, tahap, text, preprocessing, untuk, mengolah, data, dengan, menyeleksi, data, dan, mengubahnya, menjadi, data, yang, lebih, terstruktur, data, hasil, text, preprocessing, dilakukan, pembobotan, kata, dengan, menggunakan, metode, term, frequency, inverse, document, frequency, tf, idf, kemudian, dilakukan, klasifikasi, sentimen, menggunakan, algoritma, support, vector, machine, svm, hasil, terbaik, yang, didapatkan, dengan, algoritma, svm, untuk, pengujian, sentimen, kelas, dengan, data, tidakseimbang, dengan, data, positif, dan, data, negatif, menggunakan, nilai, data, latih, dan, data, uji, 90%:10, total, data, dengan, data, mengunakan, parameter, nilai, c, =, percobaan, cross, validation, k=10, dan, penggunaan, kernel, linear, hasil, yang, didapatkan, untuk, nilai, rata, rata, accuracy, presicion, recall, dan, f, measure, hasil, terbaik, yang, didapatkan, dengan, algoritma, svm, untuk, pengujian, sentimen, kelas, dengan, data, seimbang, dengan, data, positif, dan, data, negatif, menggunakan, nilai, data, latih, dan, data, uji, 90%:10, total, data, dengan, data, mengunakan, parameter, nilai, c, =, percobaan, cross, validation, k=10, dan, penggunaan, kernel, linear, hasil, pengujian, pada, data, seimbang, mendapatkan, hasil, akurasi, tertinggi, yakni, precision, recall, dan, f, measure, pada, metode, support, vector, machine, klasifikasi, sentimen]\n",
            "jumlah token: 284\n"
          ]
        }
      ],
      "source": [
        "def num(n):\n",
        "  try:\n",
        "    float(n)\n",
        "    return True\n",
        "  except ValueError:\n",
        "    return False\n",
        "\n",
        "tokenizedText = [\n",
        "  token for token in doc if not token.is_punct and not token.is_space and not num(token.text)\n",
        "]\n",
        "print(tokenizedText)\n",
        "print(f'jumlah token: {len(tokenizedText)}')"
      ]
    },
    {
      "cell_type": "markdown",
      "metadata": {
        "id": "jFsNe04QPXju"
      },
      "source": [
        "##Stopword Removal (filtering)"
      ]
    },
    {
      "cell_type": "code",
      "execution_count": null,
      "metadata": {
        "colab": {
          "base_uri": "https://localhost:8080/"
        },
        "id": "xi1QOuzgPW1F",
        "outputId": "bbfcd231-7c0c-4008-a0b7-c875cbaa1fec"
      },
      "outputs": [
        {
          "output_type": "stream",
          "name": "stdout",
          "text": [
            "[review, google, play, store, salah, fitur, penilaian, aplikasi, tix, id, salah, perusahaan, layanan, aplikasi, pemesanan, tiket, film, bioskop, online, pt, nusantara, elang, sejahtera, aplikasi, layanan, memesan, tiket, film, bioskop, favorit, memilih, film, online, dibeli, disewa, membeli, voucher, menonton, film, streaming, online, rating, disertai, ulasan, pengguna, terpenuhi, berhenti, evaluasi, peningkatan, pelayanan, pengguna, analisis, sentimen, mengklasifikasikan, review, sentimen, pengguna, penelitian, tahap, scraping, pengumpulan, data, ulasan, pengguna, aplikasi, dilanjutkan, tahap, text, preprocessing, mengolah, data, menyeleksi, data, mengubahnya, data, terstruktur, data, hasil, text, preprocessing, pembobotan, metode, term, frequency, inverse, document, frequency, tf, idf, klasifikasi, sentimen, algoritma, support, vector, machine, svm, hasil, terbaik, didapatkan, algoritma, svm, pengujian, sentimen, kelas, data, tidakseimbang, data, positif, data, negatif, nilai, data, latih, data, uji, 90%:10, total, data, data, mengunakan, parameter, nilai, c, =, percobaan, cross, validation, k=10, penggunaan, kernel, linear, hasil, didapatkan, nilai, accuracy, presicion, recall, f, measure, hasil, terbaik, didapatkan, algoritma, svm, pengujian, sentimen, kelas, data, seimbang, data, positif, data, negatif, nilai, data, latih, data, uji, 90%:10, total, data, data, mengunakan, parameter, nilai, c, =, percobaan, cross, validation, k=10, penggunaan, kernel, linear, hasil, pengujian, data, seimbang, hasil, akurasi, tertinggi, precision, recall, f, measure, metode, support, vector, machine, klasifikasi, sentimen]\n",
            "jumlah token: 191\n"
          ]
        }
      ],
      "source": [
        "removalText = [token for token in tokenizedText if not token.is_stop]\n",
        "print(removalText)\n",
        "print(f'jumlah token: {len(removalText)}')"
      ]
    },
    {
      "cell_type": "markdown",
      "metadata": {
        "id": "l2GhH9CHQk81"
      },
      "source": [
        "##Lematization\n",
        "untuk lematization dengan bahasa indonesia belum tersedia"
      ]
    },
    {
      "cell_type": "code",
      "execution_count": null,
      "metadata": {
        "colab": {
          "base_uri": "https://localhost:8080/"
        },
        "id": "eOSAcmZHPWxr",
        "outputId": "fb5b930b-152d-43b2-cf88-4eb26d5f3d04"
      },
      "outputs": [
        {
          "output_type": "stream",
          "name": "stdout",
          "text": [
            "['', '', '', '', '', '', '', '', '', '', '', '', '', '', '', '', '', '', '', '', '', '', '', '', '', '', '', '', '', '', '', '', '', '', '', '', '', '', '', '', '', '', '', '', '', '', '', '', '', '', '', '', '', '', '', '', '', '', '', '', '', '', '', '', '', '', '', '', '', '', '', '', '', '', '', '', '', '', '', '', '', '', '', '', '', '', '', '', '', '', '', '', '', '', '', '', '', '', '', '', '', '', '', '', '', '', '', '', '', '', '', '', '', '', '', '', '', '', '', '', '', '', '', '', '', '', '', '', '', '', '', '', '', '', '', '', '', '', '', '', '', '', '', '', '', '', '', '', '', '', '', '', '', '', '', '', '', '', '', '', '', '', '', '', '', '', '', '', '', '', '', '', '', '', '', '', '', '', '', '', '', '', '', '', '', '', '', '', '', '', '']\n"
          ]
        }
      ],
      "source": [
        "lemmaText = [token.lemma_ for token in removalText]\n",
        "print(lemmaText)"
      ]
    },
    {
      "cell_type": "markdown",
      "metadata": {
        "id": "DYvspzNyQhOg"
      },
      "source": [
        "##Stemming"
      ]
    },
    {
      "cell_type": "code",
      "execution_count": null,
      "metadata": {
        "colab": {
          "base_uri": "https://localhost:8080/"
        },
        "id": "NLJT2FJ2Qnkx",
        "outputId": "63c45ce7-dda2-40f1-cd2c-2f21588f6367"
      },
      "outputs": [
        {
          "output_type": "stream",
          "name": "stdout",
          "text": [
            "['review', 'google', 'play', 'store', 'salah', 'fitur', 'nilai', 'aplikasi', 'tix', 'id', 'salah', 'usaha', 'layan', 'aplikasi', 'mesan', 'tiket', 'film', 'bioskop', 'online', 'pt', 'nusantara', 'elang', 'sejahtera', 'aplikasi', 'layan', 'mes', 'tiket', 'film', 'bioskop', 'favorit', 'pilih', 'film', 'online', 'beli', 'sewa', 'beli', 'voucher', 'tonton', 'film', 'streaming', 'online', 'rating', 'serta', 'ulas', 'guna', 'penuh', 'henti', 'evaluasi', 'tingkat', 'layan', 'guna', 'analisis', 'sentimen', 'klasifikasi', 'review', 'sentimen', 'guna', 'teliti', 'tahap', 'scraping', 'kumpul', 'data', 'ulas', 'guna', 'aplikasi', 'lanjut', 'tahap', 'text', 'preprocessing', 'olah', 'data', 'seleksi', 'data', 'ubah', 'data', 'struktur', 'data', 'hasil', 'text', 'preprocessing', 'bobot', 'metode', 'term', 'frequency', 'inverse', 'document', 'frequency', 'tf', 'idf', 'klasifikasi', 'sentimen', 'algoritma', 'support', 'vector', 'machine', 'svm', 'hasil', 'baik', 'dapat', 'algoritma', 'svm', 'uji', 'sentimen', 'kelas', 'data', 'tidakseimbang', 'data', 'positif', 'data', 'negatif', 'nilai', 'data', 'latih', 'data', 'uji', '90 10', 'total', 'data', 'data', 'mengunakan', 'parameter', 'nilai', 'c', '', 'coba', 'cross', 'validation', 'k 10', 'guna', 'kernel', 'linear', 'hasil', 'dapat', 'nilai', 'accuracy', 'presicion', 'recall', 'f', 'measure', 'hasil', 'baik', 'dapat', 'algoritma', 'svm', 'uji', 'sentimen', 'kelas', 'data', 'imbang', 'data', 'positif', 'data', 'negatif', 'nilai', 'data', 'latih', 'data', 'uji', '90 10', 'total', 'data', 'data', 'mengunakan', 'parameter', 'nilai', 'c', '', 'coba', 'cross', 'validation', 'k 10', 'guna', 'kernel', 'linear', 'hasil', 'uji', 'data', 'imbang', 'hasil', 'akurasi', 'tinggi', 'precision', 'recall', 'f', 'measure', 'metode', 'support', 'vector', 'machine', 'klasifikasi', 'sentimen']\n"
          ]
        }
      ],
      "source": [
        "from Sastrawi.Stemmer.StemmerFactory import StemmerFactory\n",
        "\n",
        "factory = StemmerFactory()\n",
        "stemmer = factory.create_stemmer()\n",
        "stemmedText = [stemmer.stem(str(text)) for text in removalText]\n",
        "\n",
        "print(stemmedText)"
      ]
    },
    {
      "cell_type": "markdown",
      "source": [
        "===================================================================="
      ],
      "metadata": {
        "id": "8BfY5DGkD_3L"
      }
    },
    {
      "cell_type": "code",
      "execution_count": null,
      "metadata": {
        "id": "k__33uxVRYn6",
        "colab": {
          "base_uri": "https://localhost:8080/"
        },
        "outputId": "7698ed78-d741-4b45-cefb-2bbbe9e0a39f"
      },
      "outputs": [
        {
          "output_type": "stream",
          "name": "stdout",
          "text": [
            "Looking in indexes: https://pypi.org/simple, https://us-python.pkg.dev/colab-wheels/public/simple/\n",
            "Requirement already satisfied: nltk in /usr/local/lib/python3.7/dist-packages (3.7)\n",
            "Requirement already satisfied: click in /usr/local/lib/python3.7/dist-packages (from nltk) (7.1.2)\n",
            "Requirement already satisfied: regex>=2021.8.3 in /usr/local/lib/python3.7/dist-packages (from nltk) (2022.6.2)\n",
            "Requirement already satisfied: joblib in /usr/local/lib/python3.7/dist-packages (from nltk) (1.1.0)\n",
            "Requirement already satisfied: tqdm in /usr/local/lib/python3.7/dist-packages (from nltk) (4.64.0)\n"
          ]
        }
      ],
      "source": [
        "pip install nltk"
      ]
    },
    {
      "cell_type": "code",
      "source": [
        "import nltk\n",
        "nltk.download('popular')"
      ],
      "metadata": {
        "colab": {
          "base_uri": "https://localhost:8080/"
        },
        "id": "cPsGgsdvEecQ",
        "outputId": "020fa319-f917-452e-8f6b-6da82bcdc5c7"
      },
      "execution_count": null,
      "outputs": [
        {
          "output_type": "stream",
          "name": "stderr",
          "text": [
            "[nltk_data] Downloading collection 'popular'\n",
            "[nltk_data]    | \n",
            "[nltk_data]    | Downloading package cmudict to /root/nltk_data...\n",
            "[nltk_data]    |   Unzipping corpora/cmudict.zip.\n",
            "[nltk_data]    | Downloading package gazetteers to /root/nltk_data...\n",
            "[nltk_data]    |   Unzipping corpora/gazetteers.zip.\n",
            "[nltk_data]    | Downloading package genesis to /root/nltk_data...\n",
            "[nltk_data]    |   Unzipping corpora/genesis.zip.\n",
            "[nltk_data]    | Downloading package gutenberg to /root/nltk_data...\n",
            "[nltk_data]    |   Unzipping corpora/gutenberg.zip.\n",
            "[nltk_data]    | Downloading package inaugural to /root/nltk_data...\n",
            "[nltk_data]    |   Unzipping corpora/inaugural.zip.\n",
            "[nltk_data]    | Downloading package movie_reviews to\n",
            "[nltk_data]    |     /root/nltk_data...\n",
            "[nltk_data]    |   Unzipping corpora/movie_reviews.zip.\n",
            "[nltk_data]    | Downloading package names to /root/nltk_data...\n",
            "[nltk_data]    |   Unzipping corpora/names.zip.\n",
            "[nltk_data]    | Downloading package shakespeare to /root/nltk_data...\n",
            "[nltk_data]    |   Unzipping corpora/shakespeare.zip.\n",
            "[nltk_data]    | Downloading package stopwords to /root/nltk_data...\n",
            "[nltk_data]    |   Unzipping corpora/stopwords.zip.\n",
            "[nltk_data]    | Downloading package treebank to /root/nltk_data...\n",
            "[nltk_data]    |   Unzipping corpora/treebank.zip.\n",
            "[nltk_data]    | Downloading package twitter_samples to\n",
            "[nltk_data]    |     /root/nltk_data...\n",
            "[nltk_data]    |   Unzipping corpora/twitter_samples.zip.\n",
            "[nltk_data]    | Downloading package omw to /root/nltk_data...\n",
            "[nltk_data]    | Downloading package omw-1.4 to /root/nltk_data...\n",
            "[nltk_data]    |   Package omw-1.4 is already up-to-date!\n",
            "[nltk_data]    | Downloading package wordnet to /root/nltk_data...\n",
            "[nltk_data]    |   Package wordnet is already up-to-date!\n",
            "[nltk_data]    | Downloading package wordnet2021 to /root/nltk_data...\n",
            "[nltk_data]    | Downloading package wordnet31 to /root/nltk_data...\n",
            "[nltk_data]    | Downloading package wordnet_ic to /root/nltk_data...\n",
            "[nltk_data]    |   Unzipping corpora/wordnet_ic.zip.\n",
            "[nltk_data]    | Downloading package words to /root/nltk_data...\n",
            "[nltk_data]    |   Unzipping corpora/words.zip.\n",
            "[nltk_data]    | Downloading package maxent_ne_chunker to\n",
            "[nltk_data]    |     /root/nltk_data...\n",
            "[nltk_data]    |   Unzipping chunkers/maxent_ne_chunker.zip.\n",
            "[nltk_data]    | Downloading package punkt to /root/nltk_data...\n",
            "[nltk_data]    |   Package punkt is already up-to-date!\n",
            "[nltk_data]    | Downloading package snowball_data to\n",
            "[nltk_data]    |     /root/nltk_data...\n",
            "[nltk_data]    | Downloading package averaged_perceptron_tagger to\n",
            "[nltk_data]    |     /root/nltk_data...\n",
            "[nltk_data]    |   Unzipping taggers/averaged_perceptron_tagger.zip.\n",
            "[nltk_data]    | \n",
            "[nltk_data]  Done downloading collection popular\n"
          ]
        },
        {
          "output_type": "execute_result",
          "data": {
            "text/plain": [
              "True"
            ]
          },
          "metadata": {},
          "execution_count": 210
        }
      ]
    },
    {
      "cell_type": "code",
      "source": [
        "import pandas as pd\n",
        "import matplotlib.pyplot as plt\n",
        "import re\n",
        "from nltk.corpus import stopwords\n",
        "from nltk.tokenize import word_tokenize"
      ],
      "metadata": {
        "id": "_UyBcrx1EiNW"
      },
      "execution_count": null,
      "outputs": []
    },
    {
      "cell_type": "markdown",
      "source": [
        "##Tokenizing and stopword removal"
      ],
      "metadata": {
        "id": "5vqjicANE1JH"
      }
    },
    {
      "cell_type": "code",
      "source": [
        "word_tokens = word_tokenize(text)\n",
        "stop_words = set(stopwords.words('indonesian'))\n",
        "word_tokens_no_stopwords = [w for w in word_tokens if not w in stop_words]"
      ],
      "metadata": {
        "id": "r28vYAPoEn3f"
      },
      "execution_count": null,
      "outputs": []
    },
    {
      "cell_type": "markdown",
      "source": [
        "##Stemming"
      ],
      "metadata": {
        "id": "l70fKKIwIxHN"
      }
    },
    {
      "cell_type": "code",
      "source": [
        "from Sastrawi.Stemmer.StemmerFactory import StemmerFactory\n",
        "# create stemmer\n",
        "factory = StemmerFactory()\n",
        "stemmer = factory.create_stemmer()\n",
        "textStem = [stemmer.stem(text) for text in word_tokens_no_stopwords ]\n",
        "print(textStem)"
      ],
      "metadata": {
        "colab": {
          "base_uri": "https://localhost:8080/"
        },
        "id": "GqCRTvJOIuBx",
        "outputId": "6516fb08-63e5-4c09-a0dd-6145841a346e"
      },
      "execution_count": null,
      "outputs": [
        {
          "output_type": "stream",
          "name": "stdout",
          "text": [
            "['review', 'google', 'play', 'store', 'salah', 'fitur', 'nilai', 'aplikasi', '', 'tix', 'id', 'salah', 'usaha', 'layan', 'aplikasi', 'mesan', 'tiket', 'film', 'bioskop', 'online', 'pt', 'nusantara', 'elang', 'sejahtera', '', 'aplikasi', 'layan', 'mes', 'tiket', 'film', 'bioskop', 'favorit', '', 'pilih', 'film', 'online', 'beli', 'sewa', '', 'beli', 'voucher', 'tonton', 'film', 'streaming', 'online', '', 'rating', 'serta', 'ulas', 'guna', 'penuh', 'henti', 'evaluasi', 'tingkat', 'layan', 'guna', '', 'analisis', 'sentimen', 'klasifikasi', 'review', 'sentimen', 'guna', '', 'teliti', 'tahap', 'scraping', 'kumpul', 'data', 'ulas', 'guna', 'aplikasi', '', 'lanjut', 'tahap', 'text', 'preprocessing', 'olah', 'data', 'seleksi', 'data', 'ubah', 'data', 'struktur', '', 'data', 'hasil', 'text', 'preprocessing', 'bobot', 'metode', 'term', 'frequency', '', 'inverse', 'document', 'frequency', '', 'tf-idf', '', '', 'klasifikasi', 'sentimen', 'algoritma', 'support', 'vector', 'machine', '', 'svm', '', '', 'hasil', 'baik', 'dapat', 'algoritma', 'svm', 'uji', 'sentimen', '2', 'kelas', 'data', 'tidakseimbang', 'data', 'positif', '274', 'data', 'negatif', '100', 'nilai', 'data', 'latih', 'data', 'uji', '90', '', '10', '', '', 'total', 'data', '374', 'data', '', 'mengunakan', 'parameter', 'nilai', 'c', '', '10', '', 'coba', 'cross', 'validation', 'k 10', 'guna', 'kernel', 'linear', '', 'hasil', 'dapat', 'nilai', '-', 'accuracy', '91', '', '', 'presicion', '94', '', '', 'recall', '83', '', 'f-measure', '86', '', '', 'hasil', 'baik', 'dapat', 'algoritma', 'svm', 'uji', 'sentimen', '2', 'kelas', 'data', 'imbang', 'data', 'positif', '150', 'data', 'negatif', '150', 'nilai', 'data', 'latih', 'data', 'uji', '90', '', '10', '', '', 'total', 'data', '300', 'data', '', 'mengunakan', 'parameter', 'nilai', 'c', '', '0 5', '', 'coba', 'cross', 'validation', 'k 10', 'guna', 'kernel', 'linear', '', 'hasil', 'uji', 'data', 'imbang', 'hasil', 'akurasi', 'tinggi', '94', '', '', 'precision', '94', '', '', 'recall', '94', '', 'f-measure', '94', '', 'metode', 'support', 'vector', 'machine', 'klasifikasi', '2', 'sentimen', '']\n"
          ]
        }
      ]
    },
    {
      "cell_type": "markdown",
      "source": [
        "##hasil anilisis"
      ],
      "metadata": {
        "id": "r99g_MMpKPTh"
      }
    },
    {
      "cell_type": "code",
      "source": [
        "freq_kata_1 = nltk.FreqDist(word_tokens)\n",
        "freq_kata_2 = nltk.FreqDist(word_tokens_no_stopwords)\n",
        "freq_kata_3 = nltk.FreqDist(textStem)\n",
        "\n",
        "print(freq_kata_1.most_common(20))\n",
        "print(freq_kata_2.most_common(20))\n",
        "print(freq_kata_3.most_common(20))"
      ],
      "metadata": {
        "colab": {
          "base_uri": "https://localhost:8080/"
        },
        "id": "xGlDQnq-Eswm",
        "outputId": "0f29733e-b158-4e2c-9f9d-7506dc42d7ab"
      },
      "execution_count": null,
      "outputs": [
        {
          "output_type": "stream",
          "name": "stdout",
          "text": [
            "[('data', 20), (',', 13), ('.', 12), ('%', 12), ('dan', 11), ('dengan', 11), ('untuk', 10), ('yang', 8), ('sentimen', 6), ('hasil', 6), ('nilai', 5), ('94', 5), ('aplikasi', 4), ('film', 4), ('pengguna', 4), ('menggunakan', 4), ('pada', 3), ('atau', 3), ('online', 3), ('dilakukan', 3)]\n",
            "[('data', 20), (',', 13), ('.', 12), ('%', 12), ('sentimen', 6), ('hasil', 6), ('nilai', 5), ('94', 5), ('aplikasi', 4), ('film', 4), ('pengguna', 4), ('online', 3), ('algoritma', 3), ('svm', 3), ('didapatkan', 3), ('pengujian', 3), ('2', 3), ('review', 2), ('salah', 2), ('layanan', 2)]\n",
            "[('', 44), ('data', 20), ('nilai', 6), ('guna', 6), ('sentimen', 6), ('hasil', 6), ('uji', 5), ('94', 5), ('aplikasi', 4), ('film', 4), ('layan', 3), ('online', 3), ('klasifikasi', 3), ('algoritma', 3), ('svm', 3), ('dapat', 3), ('2', 3), ('10', 3), ('review', 2), ('salah', 2)]\n"
          ]
        }
      ]
    },
    {
      "cell_type": "code",
      "source": [
        "freq_kata_1.plot(20)\n",
        "freq_kata_2.plot(20)\n",
        "freq_kata_3.plot(20)\n",
        "plt.show()"
      ],
      "metadata": {
        "colab": {
          "base_uri": "https://localhost:8080/",
          "height": 951
        },
        "id": "3bwToAGLFO_G",
        "outputId": "f64752c1-cfda-41f4-d6a7-806e700cfb4a"
      },
      "execution_count": null,
      "outputs": [
        {
          "output_type": "display_data",
          "data": {
            "text/plain": [
              "<Figure size 432x288 with 1 Axes>"
            ],
            "image/png": "[encoded data removed]"
          },
          "metadata": {
            "needs_background": "light"
          }
        },
        {
          "output_type": "display_data",
          "data": {
            "text/plain": [
              "<Figure size 432x288 with 1 Axes>"
            ],
            "image/png": "[encoded data removed]"
          },
          "metadata": {
            "needs_background": "light"
          }
        },
        {
          "output_type": "display_data",
          "data": {
            "text/plain": [
              "<Figure size 432x288 with 1 Axes>"
            ],
            "image/png": "[encoded data removed]"
          },
          "metadata": {
            "needs_background": "light"
          }
        }
      ]
    },
    {
      "cell_type": "code",
      "source": [],
      "metadata": {
        "id": "E6ccvmtUFW9V"
      },
      "execution_count": null,
      "outputs": []
    }
  ],
  "metadata": {
    "colab": {
      "collapsed_sections": [],
      "provenance": []
    },
    "kernelspec": {
      "display_name": "Python 3",
      "name": "python3"
    },
    "language_info": {
      "name": "python"
    }
  },
  "nbformat": 4,
  "nbformat_minor": 0
}
